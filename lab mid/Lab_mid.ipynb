{
  "cells": [
    {
      "cell_type": "code",
      "execution_count": 1,
      "metadata": {
        "id": "bhylgxivHu97"
      },
      "outputs": [],
      "source": [
        "import numpy as np\n",
        "class Node:\n",
        "  def __init__ (self, elem, next = None):\n",
        "    self.elem = elem\n",
        "    self.next = next"
      ]
    },
    {
      "cell_type": "markdown",
      "metadata": {
        "id": "9Jg99VK65-fk"
      },
      "source": [
        "### The **create_list(array)** function creates a new linked list from a given np array and returns the head of the list."
      ]
    },
    {
      "cell_type": "code",
      "execution_count": 8,
      "metadata": {
        "id": "00iluJlfJBmL"
      },
      "outputs": [],
      "source": [
        "def create_list(array):\n",
        "  head = Node(array[0], None)\n",
        "  tail = head\n",
        "  for i in range(1, len(array), 1):\n",
        "    node = Node(array[i], None)\n",
        "    tail.next = node\n",
        "    tail = node\n",
        "  return head\n",
        "      "
      ]
    },
    {
      "cell_type": "markdown",
      "metadata": {
        "id": "fNogv76uMO4m"
      },
      "source": [
        "### The **alternate_merge(head1,head2)** function merges two linked list taking the alternate element from each linked list and return the head."
      ]
    },
    {
      "cell_type": "code",
      "execution_count": 57,
      "metadata": {
        "id": "isd3HaD4JjBc"
      },
      "outputs": [],
      "source": [
        "def alternate_merge(head1, head2):\n",
        "  h1 = head1\n",
        "  h2 = head2\n",
        "  \n",
        "  while h1 != None and h2 != None:\n",
        "    temp = h2.next\n",
        "    temp1 = h1.next\n",
        "    h1.next = h2\n",
        "    if temp1 != None:\n",
        "      h2.next = temp1\n",
        "      \n",
        "    h1 = temp1\n",
        "    h2 = temp\n",
        "    \n",
        "    \n",
        "    ################\n",
        "    # t = head1\n",
        "    # new = t\n",
        "    # t = t.next\n",
        "    \n",
        "    # while t!= None:\n",
        "    #   new = head1\n",
        "    #   flag = 0\n",
        "    #   while new!= None:\n",
        "    #     if t.elem == new.elem:\n",
        "    #       flag = 1\n",
        "    #       break\n",
        "    #     new = new.next\n",
        "        \n",
        "    #   if flag == 0:\n",
        "    #     while new.next != None:\n",
        "    #       new = new.next\n",
        "    #     new = t    \n",
        "    #   t = t.next\n",
        "  return head1\n",
        "     "
      ]
    },
    {
      "cell_type": "code",
      "execution_count": 26,
      "metadata": {
        "id": "ozm0W8ds0C-P"
      },
      "outputs": [],
      "source": [
        "def print_linked_list(head):\n",
        "  temp = head\n",
        "  while temp != None:\n",
        "    if temp.next != None:\n",
        "      print(temp.elem, end = ' --> ')\n",
        "    else:\n",
        "      print(temp.elem)\n",
        "    temp = temp.next\n",
        "  print()"
      ]
    },
    {
      "cell_type": "code",
      "execution_count": 59,
      "metadata": {
        "id": "dr5MwjOX0FZf"
      },
      "outputs": [
        {
          "name": "stdout",
          "output_type": "stream",
          "text": [
            "Linked List 1:\n",
            "1 --> 2 --> 6 --> 8 --> 11\n",
            "\n",
            "Linked List 2:\n",
            "5 --> 7 --> 3 --> 9 --> 4\n",
            "\n",
            "Merged Linked List:\n",
            "1 --> 5 --> 2 --> 7 --> 6 --> 3 --> 8 --> 9 --> 11 --> 4\n",
            "\n",
            "Linked List 1:\n",
            "5 --> 3 --> 2 --> -4\n",
            "\n",
            "Linked List 2:\n",
            "-4 --> -6 --> 1\n",
            "\n",
            "Merged Linked List:\n",
            "5 --> -4 --> 3 --> -6 --> 2 --> 1 --> -4\n",
            "\n",
            "Linked List 1:\n",
            "4 --> 2 --> -2 --> -4\n",
            "\n",
            "Linked List 2:\n",
            "8 --> 6 --> 5 --> -3\n",
            "\n",
            "Merged Linked List:\n",
            "4 --> 8 --> 2 --> 6 --> -2 --> 5 --> -4 --> -3\n",
            "\n"
          ]
        }
      ],
      "source": [
        "#Driver Code\n",
        "head1 = create_list(np.array([1,2,6,8,11]))\n",
        "head2 = create_list(np.array([5,7,3,9,4]))\n",
        "\n",
        "print(\"Linked List 1:\")\n",
        "print_linked_list(head1)\n",
        "print(\"Linked List 2:\")\n",
        "print_linked_list(head2)\n",
        "\n",
        "head = alternate_merge(head1, head2)\n",
        "print(\"Merged Linked List:\")\n",
        "print_linked_list(head)    #This should print    1 --> 5 --> 2 --> 7 --> 6 --> 3 --> 8 --> 9 --> 11 --> 4\n",
        "\n",
        "\n",
        "##############################\n",
        "\n",
        "\n",
        "head1 = create_list(np.array([5, 3, 2, -4]))\n",
        "head2 = create_list(np.array([-4, -6, 1]))\n",
        "\n",
        "print(\"Linked List 1:\")\n",
        "print_linked_list(head1)\n",
        "print(\"Linked List 2:\")\n",
        "print_linked_list(head2)\n",
        "\n",
        "head = alternate_merge(head1, head2)\n",
        "print(\"Merged Linked List:\")\n",
        "print_linked_list(head)    #This should print    5 → -4 -> 3 → -6 -> 2 -> -4\n",
        "\n",
        "\n",
        "# ##############################\n",
        "\n",
        "\n",
        "head1 = create_list(np.array([4, 2, -2, -4]))\n",
        "head2 = create_list(np.array([8, 6, 5, -3]))\n",
        "\n",
        "print(\"Linked List 1:\")\n",
        "print_linked_list(head1)\n",
        "print(\"Linked List 2:\")\n",
        "print_linked_list(head2)\n",
        "\n",
        "head = alternate_merge(head1, head2)\n",
        "print(\"Merged Linked List:\")\n",
        "print_linked_list(head)    #This should print   4-> 8 → 2-> 6 → -2 → 5 → -4 -> -3\n"
      ]
    }
  ],
  "metadata": {
    "colab": {
      "provenance": []
    },
    "kernelspec": {
      "display_name": "Python 3",
      "name": "python3"
    },
    "language_info": {
      "codemirror_mode": {
        "name": "ipython",
        "version": 3
      },
      "file_extension": ".py",
      "mimetype": "text/x-python",
      "name": "python",
      "nbconvert_exporter": "python",
      "pygments_lexer": "ipython3",
      "version": "3.9.7"
    }
  },
  "nbformat": 4,
  "nbformat_minor": 0
}
