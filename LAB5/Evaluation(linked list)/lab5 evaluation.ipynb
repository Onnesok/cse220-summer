{
  "cells": [
    {
      "cell_type": "code",
      "execution_count": 5,
      "metadata": {
        "id": "FczuK75bZhsd"
      },
      "outputs": [],
      "source": [
        "import numpy as np"
      ]
    },
    {
      "cell_type": "code",
      "execution_count": 6,
      "metadata": {
        "id": "KGawKFDMSeHQ"
      },
      "outputs": [],
      "source": [
        "# Node class for linked list nodes\n",
        "class Node:\n",
        "  def __init__(self, elem, next=None):\n",
        "    self.elem = elem\n",
        "    self.next = next\n",
        "\n",
        "# Linked list operations\n",
        "def createList(arr):\n",
        "  head = Node(arr[0])\n",
        "  tail = head\n",
        "  for i in range(1,len(arr)):\n",
        "    newNode = Node(arr[i])\n",
        "    tail.next = newNode\n",
        "    tail = newNode\n",
        "  return head\n",
        "\n",
        "def printLinkedList(head):\n",
        "  temp = head\n",
        "  while temp != None:\n",
        "    if temp.next != None:\n",
        "      print(temp.elem, end = '-->')\n",
        "    else:\n",
        "      print(temp.elem)\n",
        "    temp = temp.next\n",
        "  print()\n",
        "\n",
        "# add any other functions needed to complete this task here."
      ]
    },
    {
      "cell_type": "markdown",
      "metadata": {
        "id": "ry1mvTZXURZv"
      },
      "source": [
        "# Be The Change\n",
        "In a wonderland, the tradition of who rules over a family is very weird. Six months of the year, all the families of the wonderland become patriarchal and for the remaining six the mother takes lead.\n",
        "\n",
        "Also, another weird thing is every person in a family gets certain ID's.\n",
        "Father's ID is always 1,\n",
        "Mother's ID is always 2.\n",
        "The children have ID's by 3, 4, 5 etc. with respect to their age.\n",
        "\n",
        "So,\n",
        "1 → 2 → 3 → 4 represents a patriarchal family with two children.\n",
        "As you can guess, for the remaining six months, the family is identified by 2 → 1 → 3 → 4. That is, the father and the mother change places.\n",
        "\n",
        "Now, your job is to design a function **update_family(head)** which takes a family representation of current time, modifies the current representation to get the alternate family representation and returns the updated head.\n",
        "\n",
        "(A family will always have a mother and a father.)\n",
        "\n",
        "---\n",
        "\n",
        "### Note : You **must do this operation by updating the links between various nodes** of the linked list, you cannot just simply overwrite the family members' ID\n",
        "\n",
        "```\n",
        "Sample Input 1 : 1 → 2 → 3 → 4\n",
        "Sample Output 1 : 2 → 1 → 3 → 4\n",
        "\n",
        "Sample Input 2 : 2 → 1 → 3\n",
        "Sample Output 2 : 1 → 2 → 3\n",
        "\n",
        "Sample Input 3 : 1 → 2\n",
        "Sample Output 3 : 2 → 1\n",
        "```"
      ]
    },
    {
      "cell_type": "code",
      "execution_count": 8,
      "metadata": {
        "id": "2b51a6vuVNh-"
      },
      "outputs": [],
      "source": [
        "def update_family(head):\n",
        "    i = head\n",
        "    if i != None:\n",
        "      head = head.next\n",
        "      i.next = i.next.next\n",
        "      head.next = i\n",
        "\n",
        "    return head"
      ]
    },
    {
      "cell_type": "code",
      "execution_count": 9,
      "metadata": {
        "colab": {
          "base_uri": "https://localhost:8080/"
        },
        "id": "8rA28AqwXesW",
        "outputId": "0b50900f-6281-47f7-e53e-fdb56301bb0f"
      },
      "outputs": [
        {
          "name": "stdout",
          "output_type": "stream",
          "text": [
            "Current family\n",
            "1-->2-->3-->4\n",
            "\n",
            "2-->1-->3-->4\n",
            "\n",
            "Current family\n",
            "2-->1-->3\n",
            "\n",
            "1-->2-->3\n",
            "\n",
            "Current family\n",
            "1-->2\n",
            "\n",
            "2-->1\n",
            "\n"
          ]
        }
      ],
      "source": [
        "# Testing Your code\n",
        "\n",
        "family_1 = createList(np.array([1, 2, 3, 4]))\n",
        "print(\"Current family\")\n",
        "printLinkedList(family_1)\n",
        "family_1 = update_family(family_1)\n",
        "printLinkedList(family_1)  # This should print 2 → 1 → 3 → 4\n",
        "\n",
        "family_2 = createList(np.array([2, 1, 3]))\n",
        "print(\"Current family\")\n",
        "printLinkedList(family_2)\n",
        "family_2 = update_family(family_2)\n",
        "printLinkedList(family_2)  # This should print 1 → 2 → 3\n",
        "\n",
        "family_3 = createList(np.array([1, 2]))\n",
        "print(\"Current family\")\n",
        "printLinkedList(family_3)\n",
        "family_3 = update_family(family_3)\n",
        "printLinkedList(family_3)  # This should print 2 → 1"
      ]
    }
  ],
  "metadata": {
    "colab": {
      "provenance": []
    },
    "kernelspec": {
      "display_name": "Python 3",
      "name": "python3"
    },
    "language_info": {
      "codemirror_mode": {
        "name": "ipython",
        "version": 3
      },
      "file_extension": ".py",
      "mimetype": "text/x-python",
      "name": "python",
      "nbconvert_exporter": "python",
      "pygments_lexer": "ipython3",
      "version": "3.9.7"
    }
  },
  "nbformat": 4,
  "nbformat_minor": 0
}
