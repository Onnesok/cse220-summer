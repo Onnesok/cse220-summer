{
 "cells": [
  {
   "cell_type": "markdown",
   "metadata": {},
   "source": [
    "Question 1A"
   ]
  },
  {
   "cell_type": "code",
   "execution_count": 22,
   "metadata": {},
   "outputs": [
    {
     "name": "stdout",
     "output_type": "stream",
     "text": [
      "Factorial:  24\n"
     ]
    }
   ],
   "source": [
    "def fact(n):\n",
    "  if n == 1:\n",
    "    return 1\n",
    "  else:\n",
    "    return n*fact(n-1)\n",
    "print(\"Factorial: \",fact(4))\n"
   ]
  },
  {
   "cell_type": "markdown",
   "metadata": {},
   "source": [
    "Question 1B"
   ]
  },
  {
   "cell_type": "code",
   "execution_count": 23,
   "metadata": {},
   "outputs": [
    {
     "name": "stdout",
     "output_type": "stream",
     "text": [
      "Fibonacci:  5\n"
     ]
    }
   ],
   "source": [
    "\n",
    "######## b  #######\n",
    "##################\n",
    "def fibonacci(n):\n",
    "  if n <= 1:\n",
    "    return 1\n",
    "  else:\n",
    "    return fibonacci(n-1) + fibonacci(n-2)\n",
    "\n",
    "print(\"Fibonacci: \",fibonacci(4))\n"
   ]
  },
  {
   "cell_type": "markdown",
   "metadata": {},
   "source": [
    "Question 1C"
   ]
  },
  {
   "cell_type": "code",
   "execution_count": 24,
   "metadata": {},
   "outputs": [
    {
     "name": "stdout",
     "output_type": "stream",
     "text": [
      "1\n",
      "2\n",
      "5\n",
      "4\n",
      "10\n"
     ]
    }
   ],
   "source": [
    "def arr(a, i, n):\n",
    "  if i == n:\n",
    "    return\n",
    "  else:\n",
    "    print(a[i])\n",
    "    return arr(a, i+1, n)\n",
    "  \n",
    "arr([1,2,5,4,10], 0, 5)\n"
   ]
  },
  {
   "cell_type": "markdown",
   "metadata": {},
   "source": [
    "Question 1D"
   ]
  },
  {
   "cell_type": "code",
   "execution_count": 25,
   "metadata": {},
   "outputs": [
    {
     "name": "stdout",
     "output_type": "stream",
     "text": [
      "power: 27\n"
     ]
    }
   ],
   "source": [
    "def power(a, n):\n",
    "  if n ==0:\n",
    "    return 1\n",
    "  else:\n",
    "    return a * power(a, n-1)\n",
    "\n",
    "print(\"power:\",power(3,3))"
   ]
  },
  {
   "cell_type": "markdown",
   "metadata": {},
   "source": [
    "Question 2A"
   ]
  },
  {
   "cell_type": "code",
   "execution_count": 26,
   "metadata": {},
   "outputs": [
    {
     "name": "stdout",
     "output_type": "stream",
     "text": [
      "Binary number:  10100\n"
     ]
    }
   ],
   "source": [
    "######### a ########\n",
    "def binary(n):\n",
    "  rem = n%2\n",
    "  if n == 0:\n",
    "    return \"\"\n",
    "  else:\n",
    "    return binary(n//2) + str(rem)\n",
    "print(\"Binary number: \",binary(20))"
   ]
  },
  {
   "cell_type": "markdown",
   "metadata": {},
   "source": [
    "Question 2B"
   ]
  },
  {
   "cell_type": "code",
   "execution_count": 27,
   "metadata": {},
   "outputs": [
    {
     "name": "stdout",
     "output_type": "stream",
     "text": [
      "Sum of Nodes =  15\n"
     ]
    }
   ],
   "source": [
    "########## b ############\n",
    "import math\n",
    "  \n",
    "class Sum:\n",
    "    tsum = None\n",
    "  \n",
    "class Node:\n",
    "    def __init__(self,data):\n",
    "        self.data = data\n",
    "        self.next = None\n",
    "  \n",
    "def push(head, data):\n",
    "    if not head:\n",
    "        return Node(data)\n",
    "   \n",
    "    new_node = Node(data)\n",
    "  \n",
    "    new_node.next = head\n",
    "  \n",
    "    head = new_node\n",
    "    return head\n",
    "  \n",
    "# linked list \n",
    "def sumOfNode(head, S):\n",
    "      \n",
    "    # if head = NULL\n",
    "    if not head:\n",
    "        return\n",
    "      \n",
    "    sumOfNode(head.next, S)\n",
    "      \n",
    "    S.tsum += head.data \n",
    "\n",
    "\n",
    "def sumOfNodesUtil(head):\n",
    "    S = Sum()\n",
    "    S.tsum = 0\n",
    "      \n",
    "    sumOfNode(head, S)\n",
    "      \n",
    "    return S.tsum\n",
    "  \n",
    "\n",
    "head = None\n",
    "\n",
    "head = push(head, 1)\n",
    "head = push(head, 2)\n",
    "head = push(head, 3)\n",
    "head = push(head, 5)\n",
    "head = push(head, 4)\n",
    "print(\"Sum of Nodes = \", sumOfNodesUtil(head))\n"
   ]
  },
  {
   "cell_type": "markdown",
   "metadata": {},
   "source": [
    "Question 2C"
   ]
  },
  {
   "cell_type": "code",
   "execution_count": 28,
   "metadata": {},
   "outputs": [
    {
     "name": "stdout",
     "output_type": "stream",
     "text": [
      "40\n",
      "30\n",
      "20\n",
      "10\n"
     ]
    }
   ],
   "source": [
    "class Node:\n",
    "  def __init__(self, element, n):\n",
    "    self.element = element\n",
    "    self.next = n\n",
    "\n",
    "class LinkedList:\n",
    "  def __init__(self, a):\n",
    "    self.head = None \n",
    "    if type(a) == list:\n",
    "      for i in range(0,len(a)):\n",
    "        newNode = Node(a[i],None)\n",
    "        if (self.head == None):\n",
    "          self.head = newNode\n",
    "          tail = newNode\n",
    "        else:\n",
    "          tail.next = newNode\n",
    "          tail = newNode\n",
    "    if type(a)==Node:\n",
    "      self.head = a\n",
    "\n",
    "  def reverseList(self,h):\n",
    "    if h == None:\n",
    "      return\n",
    "    else:\n",
    "      self.reverseList(h.next)\n",
    "      print(h.element)\n",
    "\n",
    "a = [10,20,30,40]\n",
    "h1 = LinkedList(a)\n",
    "(h1.reverseList(h1.head))\n"
   ]
  },
  {
   "cell_type": "markdown",
   "metadata": {},
   "source": [
    "Question 3 "
   ]
  },
  {
   "cell_type": "code",
   "execution_count": 29,
   "metadata": {},
   "outputs": [
    {
     "name": "stdout",
     "output_type": "stream",
     "text": [
      "HocBuilder:  13\n"
     ]
    }
   ],
   "source": [
    "def hocBuilder(h):\n",
    "  if h == 0:\n",
    "    return 0\n",
    "  elif h == 1:\n",
    "    return 8\n",
    "  else:\n",
    "    return 5+hocBuilder(h-1)\n",
    "\n",
    "\n",
    "print(\"HocBuilder: \",hocBuilder(2))"
   ]
  },
  {
   "cell_type": "markdown",
   "metadata": {},
   "source": [
    "Question 4 A"
   ]
  },
  {
   "cell_type": "code",
   "execution_count": 30,
   "metadata": {},
   "outputs": [
    {
     "name": "stdout",
     "output_type": "stream",
     "text": [
      "1 \n",
      "1 2 \n",
      "1 2 3 \n",
      "1 2 3 4 \n",
      "1 2 3 4 5 \n"
     ]
    }
   ],
   "source": [
    "def num(i, n):\n",
    "  if i == n+1:\n",
    "    print()\n",
    "    return\n",
    "  print(i, end=\" \")\n",
    "  i = i+1\n",
    "  return num(i, n)\n",
    "\n",
    "def pattern(a, i):\n",
    "  if i == a+1:\n",
    "    return\n",
    "  num(1, i)\n",
    "  pattern(a, i+1)\n",
    "\n",
    "#F call\n",
    "pattern(5, 1)"
   ]
  },
  {
   "cell_type": "markdown",
   "metadata": {},
   "source": [
    "Question 4B"
   ]
  },
  {
   "cell_type": "code",
   "execution_count": 31,
   "metadata": {},
   "outputs": [
    {
     "name": "stdout",
     "output_type": "stream",
     "text": [
      "        1 \n",
      "      1 2 \n",
      "    1 2 3 \n",
      "  1 2 3 4 \n",
      "1 2 3 4 5 \n"
     ]
    }
   ],
   "source": [
    "def forward(i, n):\n",
    "  if i == n+1:\n",
    "    print()\n",
    "    return\n",
    "  print(i, end=\" \")\n",
    "  i = i+1\n",
    "  return forward(i, n)\n",
    "\n",
    "def num(a, i, j):\n",
    "  if i == j-1:\n",
    "    return\n",
    "  print(\" \", end=\" \")\n",
    "  i = i-1\n",
    "  return num(a, i, j)\n",
    "\n",
    "def pattern(a, i):\n",
    "  if i == a:\n",
    "    return\n",
    "  num(a, a-i, 1)\n",
    "  forward(1, i)\n",
    "  pattern(a, i+1)\n",
    "  if i == a-1:\n",
    "      forward(1, i+1)\n",
    "#F call\n",
    "pattern(5, 1)\n"
   ]
  },
  {
   "cell_type": "markdown",
   "metadata": {},
   "source": [
    "Question 5"
   ]
  },
  {
   "cell_type": "code",
   "execution_count": 32,
   "metadata": {},
   "outputs": [
    {
     "name": "stdout",
     "output_type": "stream",
     "text": [
      "1. Investment: 25000; Profit: 0.0\n",
      "2. Investment: 100000; Profit: 3375.0\n",
      "3. Investment: 250000; Profit: 15375.0\n",
      "4. Investment: 350000; Profit: 23375.0\n"
     ]
    }
   ],
   "source": [
    "class FinalQ:\n",
    "  def printt(self,array,idx):\n",
    "    if idx<len(array):\n",
    "      profit = self.calcProfit(array[idx])\n",
    "      print(\"{}. Investment: {}; Profit: {}\".format(idx + 1, array[idx], self.calcProfit(array[idx])))\n",
    "      self.printt(array,idx+1)\n",
    "\n",
    "  def calcProfit(self,investmentt):\n",
    "    if investmentt == 25000:\n",
    "      return 0.0\n",
    "    else:\n",
    "      if investmentt<=100000:\n",
    "        return self.calcProfit(investmentt-1000)+45.0\n",
    "      else:\n",
    "        return self.calcProfit(investmentt-1000)+80.0\n",
    "\n",
    "array = [25000,100000,250000,350000]\n",
    "f = FinalQ()\n",
    "f.printt(array,0)\n"
   ]
  },
  {
   "cell_type": "markdown",
   "metadata": {},
   "source": [
    "Must do task 1"
   ]
  },
  {
   "cell_type": "code",
   "execution_count": 34,
   "metadata": {},
   "outputs": [
    {
     "name": "stdout",
     "output_type": "stream",
     "text": [
      "[1, 2, 3, 4, 5, 6, 7, 8, 9, 10, 11, 12, 13, 14, 15, 16, 17]\n"
     ]
    }
   ],
   "source": [
    "def flatten(n, a):\n",
    "    if len(n) == 0:\n",
    "        return a\n",
    "    else:\n",
    "        if type(n[0]) == int:\n",
    "            a.append(n[0])\n",
    "            return flatten(n[1:], a)\n",
    "        elif type(n[0]) == list:\n",
    "            a = flatten(n[0], a)\n",
    "            return flatten(n[1:], a)\n",
    "\n",
    "#given_list = [1, 2,[16,8], [3,4]]\n",
    "given_list = [1, [2, [3, [4], 5], 6], 7, 8, [9, [[10, 11], 12], 13], 14, [15, [16, [17]]]]\n",
    "output = flatten(given_list, [])\n",
    "print(output)\n",
    "#print(given_list[0], type(given_list), given_list[1:])"
   ]
  }
 ],
 "metadata": {
  "kernelspec": {
   "display_name": "base",
   "language": "python",
   "name": "python3"
  },
  "language_info": {
   "codemirror_mode": {
    "name": "ipython",
    "version": 3
   },
   "file_extension": ".py",
   "mimetype": "text/x-python",
   "name": "python",
   "nbconvert_exporter": "python",
   "pygments_lexer": "ipython3",
   "version": "3.9.7"
  },
  "orig_nbformat": 4
 },
 "nbformat": 4,
 "nbformat_minor": 2
}
