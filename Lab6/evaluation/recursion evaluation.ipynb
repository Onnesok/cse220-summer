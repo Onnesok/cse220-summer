{
  "cells": [
    {
      "cell_type": "markdown",
      "metadata": {
        "id": "xDyfoX6aC5-p"
      },
      "source": [
        "Compare between an given Array and a Linkedlist. If all the elements are identical in both then it will return True otherwise, False. You just need to implement your code in \"compare\" method. The length of Array and LinkedList will be same. You may create another method for recursive call in the compare method.\n",
        "\n",
        ">\n",
        "\n",
        "array = [1,2,3,4];\n",
        "\n",
        ">\n",
        "\n",
        "list_1 = 1-->2-->3-->4\n",
        "\n",
        ">\n",
        "\n",
        "It will return **True** as all the elements are same in both\n",
        ">\n",
        "\n",
        "array = [1,12,3,14];\n",
        "\n",
        ">\n",
        "\n",
        "list_1 = 1-->12-->5-->14\n",
        "\n",
        ">\n",
        "\n",
        "It will return **False** as all the elements don't match(3 and 5)"
      ]
    },
    {
      "cell_type": "code",
      "execution_count": 4,
      "metadata": {
        "id": "1tl-Uqt8xLgo"
      },
      "outputs": [],
      "source": [
        "class ListNode:\n",
        "    def __init__(self, x):\n",
        "        self.val = x\n",
        "        self.next = None\n",
        "\n",
        "\n",
        "def linkList(lst):\n",
        "    cur = dummy = ListNode(0)\n",
        "    for e in lst:\n",
        "        cur.next = ListNode(e)\n",
        "        cur = cur.next\n",
        "    return dummy.next\n",
        "\n",
        "def printList(head):\n",
        "  itr = head\n",
        "  while itr:\n",
        "    print(itr.val,end=\"-->\")\n",
        "    itr = itr.next\n",
        "  print()\n"
      ]
    },
    {
      "cell_type": "code",
      "execution_count": 15,
      "metadata": {
        "id": "ER_5rYRcz1bv"
      },
      "outputs": [
        {
          "name": "stdout",
          "output_type": "stream",
          "text": [
            "10-->11-->12-->13-->14-->\n",
            "True\n",
            "---------------------------\n",
            "1-->1-->2-->13-->4-->\n",
            "False\n"
          ]
        }
      ],
      "source": [
        "class Comparator:\n",
        "  def compare(self,array, linkList):\n",
        "\n",
        "    #code here\n",
        "    #you may create another method for recursive call\n",
        "    if len(array) == 0:\n",
        "      return True\n",
        "    else:\n",
        "      if array[0] == linkList.val:\n",
        "        return Comparator.compare(self, array[1:], linkList.next)\n",
        "      return False\n",
        "\n",
        "\n",
        "\n",
        "\n",
        "array_1 = [10, 11, 12, 13, 14]\n",
        "head_1 = linkList([10, 11, 12, 13, 14])\n",
        "printList(head_1)\n",
        "\n",
        "check_1 = Comparator()\n",
        "print(check_1.compare(array_1,head_1)) #It should print True\n",
        "\n",
        "print(\"---------------------------\")\n",
        "\n",
        "array_2 = [1, 1, 2, 3, 4]\n",
        "head_2 = linkList([1, 1, 2, 13, 4])\n",
        "printList(head_2)\n",
        "\n",
        "check_2 = Comparator()\n",
        "print(check_2.compare(array_2,head_2)) #It should print False"
      ]
    }
  ],
  "metadata": {
    "colab": {
      "provenance": []
    },
    "kernelspec": {
      "display_name": "Python 3",
      "name": "python3"
    },
    "language_info": {
      "codemirror_mode": {
        "name": "ipython",
        "version": 3
      },
      "file_extension": ".py",
      "mimetype": "text/x-python",
      "name": "python",
      "nbconvert_exporter": "python",
      "pygments_lexer": "ipython3",
      "version": "3.9.7"
    }
  },
  "nbformat": 4,
  "nbformat_minor": 0
}
