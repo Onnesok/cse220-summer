{
  "nbformat": 4,
  "nbformat_minor": 0,
  "metadata": {
    "colab": {
      "provenance": []
    },
    "kernelspec": {
      "name": "python3",
      "display_name": "Python 3"
    },
    "language_info": {
      "name": "python"
    }
  },
  "cells": [
    {
      "cell_type": "markdown",
      "source": [
        "Two friends (John and Sebestian) play a game where they need to write notes and put it in an envelope. They were not aware of what the other friend wrote in their note. You being the judge check both the notes and give a result to the audience. The rubrics that you followed to announce the result is very simple. If Sebestian's note can be formed using the words from John's text then they won the game or otherwise will lose. Complete the check note method using the concept of key indexing/hashing.\n",
        "\n",
        "**Sample Input 1:**\n",
        "\n",
        "give me one thousand today night\n",
        "\n",
        "give one thousand today\n",
        "\n",
        "**Output:**\n",
        "\n",
        "Win\n",
        "\n",
        "\n",
        "**Sample Input 2:**\n",
        "\n",
        "two times three is not four\n",
        "\n",
        "two times two is four\n",
        "\n",
        "**Output:**\n",
        "\n",
        "Lose\n",
        "\n",
        "**Explanation**: two only occurs once in John's note\n",
        "\n",
        "**Sample Input 3:**\n",
        "\n",
        "ive got a lovely bunch of coconuts\n",
        "\n",
        "ive got some coconuts\n",
        "\n",
        "**Output:**\n",
        "\n",
        "Lose\n",
        "\n",
        "**Explanation**: some is missing in John's text\n"
      ],
      "metadata": {
        "id": "In97ifVoulqx"
      }
    },
    {
      "cell_type": "code",
      "source": [
        "def check_note(john_note, seb_note):\n",
        "    word_bank = {}\n",
        "    #write your code here\n",
        "    return False"
      ],
      "metadata": {
        "id": "yhzqF8kP2Jlm"
      },
      "execution_count": null,
      "outputs": []
    },
    {
      "cell_type": "code",
      "source": [
        "john_note = \"Give me one thousand taka only\"\n",
        "seb_note = \"Give thousand taka\"\n",
        "\n",
        "john_note = john_note.strip().split(' ')\n",
        "seb_note = seb_note.strip().split(' ')\n",
        "answer = check_note(john_note, seb_note)\n",
        "if(answer):\n",
        "    print(\"Win\")\n",
        "else:\n",
        "    print(\"Lose\")"
      ],
      "metadata": {
        "id": "JobIb4tIzyIM",
        "colab": {
          "base_uri": "https://localhost:8080/"
        },
        "outputId": "7c65d80f-d2a3-42bc-d949-fa2b2a5008aa"
      },
      "execution_count": null,
      "outputs": [
        {
          "output_type": "stream",
          "name": "stdout",
          "text": [
            "Lose\n"
          ]
        }
      ]
    },
    {
      "cell_type": "code",
      "source": [
        "john_note = \"Give me one thousand taka only\"\n",
        "seb_note = \"Give two thousand taka\"\n",
        "\n",
        "john_note = john_note.strip().split(' ')\n",
        "seb_note = seb_note.strip().split(' ')\n",
        "answer = check_note(john_note, seb_note)\n",
        "if(answer):\n",
        "    print(\"Win\")\n",
        "else:\n",
        "    print(\"Lose\")"
      ],
      "metadata": {
        "id": "wMeStptf2XPV",
        "colab": {
          "base_uri": "https://localhost:8080/"
        },
        "outputId": "a0d3548c-ee6a-419b-e775-a769cb480e2f"
      },
      "execution_count": null,
      "outputs": [
        {
          "output_type": "stream",
          "name": "stdout",
          "text": [
            "Lose\n"
          ]
        }
      ]
    },
    {
      "cell_type": "code",
      "source": [
        "john_note = \"two times three is not four\"\n",
        "seb_note = \"two times two is four\"\n",
        "\n",
        "john_note = john_note.strip().split(' ')\n",
        "seb_note = seb_note.strip().split(' ')\n",
        "answer = check_note(john_note, seb_note)\n",
        "if(answer):\n",
        "    print(\"Win\")\n",
        "else:\n",
        "    print(\"Lose\")"
      ],
      "metadata": {
        "id": "nChUFmT4x2e5",
        "colab": {
          "base_uri": "https://localhost:8080/"
        },
        "outputId": "c9f3d3a3-123d-4d6b-b004-f35ac28ef227"
      },
      "execution_count": null,
      "outputs": [
        {
          "output_type": "stream",
          "name": "stdout",
          "text": [
            "Lose\n"
          ]
        }
      ]
    }
  ]
}