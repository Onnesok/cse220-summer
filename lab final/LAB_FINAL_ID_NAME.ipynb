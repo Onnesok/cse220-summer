{
  "nbformat": 4,
  "nbformat_minor": 0,
  "metadata": {
    "colab": {
      "provenance": []
    },
    "kernelspec": {
      "name": "python3",
      "display_name": "Python 3"
    },
    "language_info": {
      "name": "python"
    }
  },
  "cells": [
    {
      "cell_type": "markdown",
      "source": [
        "#You are given a binary tree. Write a function find_minimum() that will return the node with the minimum value. ***YOU CANNOT USE LIST.*** DEISGN THE PARAMETERS AS YOU WISH WITH DEFAULT VALUE. YOU CAN ALSO WRITE HELPER FUNCTION."
      ],
      "metadata": {
        "id": "kWDHDPBYNF--"
      }
    },
    {
      "cell_type": "code",
      "execution_count": null,
      "metadata": {
        "id": "IGiX6GivM9ey"
      },
      "outputs": [],
      "source": [
        "class BTNode:\n",
        "  def __init__(self, value, left=None, right=None):\n",
        "    self.value, self.left, self.right = value, left, right"
      ]
    },
    {
      "cell_type": "code",
      "source": [
        "def find_minimum(root):\n",
        "  #write your code here\n",
        "  return None"
      ],
      "metadata": {
        "id": "3hVsb2CgNSz1"
      },
      "execution_count": null,
      "outputs": []
    },
    {
      "cell_type": "code",
      "source": [
        "def inorder(root):\n",
        "  if root == None:\n",
        "    return\n",
        "  inorder(root.left)\n",
        "  print(root.value, end = \" \")\n",
        "  inorder(root.right)"
      ],
      "metadata": {
        "id": "58xMXdayOs6U"
      },
      "execution_count": null,
      "outputs": []
    },
    {
      "cell_type": "code",
      "source": [
        "#Driver code\n",
        "root = BTNode(71)\n",
        "n27 = BTNode(27)\n",
        "n62 = BTNode(62)\n",
        "n80 = BTNode(80)\n",
        "n75 = BTNode(75)\n",
        "n41 = BTNode(41)\n",
        "n3 = BTNode(3)\n",
        "n87 = BTNode(87)\n",
        "n56 = BTNode(56)\n",
        "n19 = BTNode(19)\n",
        "n89 = BTNode(89)\n",
        "\n",
        "root.right = n62\n",
        "root.left = n27\n",
        "\n",
        "n27.right = n75\n",
        "n27.left = n80\n",
        "\n",
        "n62.left = n41\n",
        "n62.right = n3\n",
        "\n",
        "n80.left = n87\n",
        "n80.right = n56\n",
        "\n",
        "n3.right = n89\n",
        "n3.left = n19\n",
        "\n",
        "inorder(root)\n",
        "print(find_minimum(root).value)"
      ],
      "metadata": {
        "colab": {
          "base_uri": "https://localhost:8080/"
        },
        "id": "9Zj3v_u4NhUd",
        "outputId": "84d91146-a239-4754-da63-1fd22580cf2f"
      },
      "execution_count": null,
      "outputs": [
        {
          "output_type": "stream",
          "name": "stdout",
          "text": [
            "87 80 56 27 75 71 41 62 19 3 89 "
          ]
        }
      ]
    },
    {
      "cell_type": "code",
      "source": [],
      "metadata": {
        "id": "uUb7kQiAO2gt"
      },
      "execution_count": null,
      "outputs": []
    }
  ]
}